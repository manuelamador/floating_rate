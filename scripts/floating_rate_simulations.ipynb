{
 "cells": [
  {
   "cell_type": "markdown",
   "metadata": {},
   "source": [
    "# Simulations and moments\n",
    "\n",
    "This script computes the simulations and associated moments of several version of the model, with and without self-fulfilling shocks, with short and long debt, and with the floating rate bond."
   ]
  },
  {
   "cell_type": "code",
   "execution_count": 3,
   "metadata": {
    "lines_to_next_cell": 2
   },
   "outputs": [
    {
     "name": "stderr",
     "output_type": "stream",
     "text": [
      "\u001b[32m\u001b[1m  Activating\u001b[22m\u001b[39m project at `c:\\Users\\amado\\Documents\\GitHub\\floating_rate`\n",
      "\u001b[32m\u001b[1m    Updating\u001b[22m\u001b[39m registry at `C:\\Users\\amado\\.julia\\registries\\General`\n",
      "\u001b[32m\u001b[1m    Updating\u001b[22m\u001b[39m git-repo `https://github.com/JuliaRegistries/General.git`\n",
      "\u001b[32m\u001b[1m   Installed\u001b[22m\u001b[39m GR_jll ────────────── v0.66.2+0\n",
      "\u001b[32m\u001b[1m   Installed\u001b[22m\u001b[39m StaticArraysCore ──── v1.1.0\n",
      "\u001b[32m\u001b[1m   Installed\u001b[22m\u001b[39m Infiltrator ───────── v1.6.1\n",
      "\u001b[32m\u001b[1m   Installed\u001b[22m\u001b[39m FastGaussQuadrature ─ v0.4.9\n",
      "\u001b[32m\u001b[1m   Installed\u001b[22m\u001b[39m HTTP ──────────────── v1.2.1\n",
      "\u001b[32m\u001b[1m   Installed\u001b[22m\u001b[39m ArrayInterfaceCore ── v0.1.17\n",
      "\u001b[32m\u001b[1m   Installed\u001b[22m\u001b[39m NaNMath ───────────── v1.0.1\n",
      "\u001b[32m\u001b[1m   Installed\u001b[22m\u001b[39m StaticArrays ──────── v1.5.4\n",
      "\u001b[32m\u001b[1m   Installed\u001b[22m\u001b[39m Revise ────────────── v3.4.0\n",
      "\u001b[32m\u001b[1m   Installed\u001b[22m\u001b[39m SnoopPrecompile ───── v1.0.0\n",
      "\u001b[32m\u001b[1m   Installed\u001b[22m\u001b[39m StatsPlots ────────── v0.15.1\n",
      "\u001b[32m\u001b[1m   Installed\u001b[22m\u001b[39m Plots ─────────────── v1.31.7\n",
      "\u001b[32m\u001b[1m   Installed\u001b[22m\u001b[39m Setfield ──────────── v1.1.0\n",
      "\u001b[32m\u001b[1m   Installed\u001b[22m\u001b[39m VectorizationBase ─── v0.21.46\n",
      "\u001b[32m\u001b[1m   Installed\u001b[22m\u001b[39m JuliaInterpreter ──── v0.9.15\n",
      "\u001b[32m\u001b[1m   Installed\u001b[22m\u001b[39m LoopVectorization ─── v0.12.122\n",
      "\u001b[32m\u001b[1m   Installed\u001b[22m\u001b[39m ArrayInterface ────── v6.0.22\n",
      "\u001b[32m\u001b[1m   Installed\u001b[22m\u001b[39m Distributions ─────── v0.25.67\n",
      "\u001b[32m\u001b[1m   Installed\u001b[22m\u001b[39m GR ────────────────── v0.66.2\n",
      "\u001b[32m\u001b[1m    Updating\u001b[22m\u001b[39m `C:\\Users\\amado\\Documents\\GitHub\\floating_rate\\Project.toml`\n",
      " \u001b[90m [6e4b80f9] \u001b[39m\u001b[92m+ BenchmarkTools v1.3.1\u001b[39m\n",
      " \u001b[90m [31c24e10] \u001b[39m\u001b[92m+ Distributions v0.25.67\u001b[39m\n",
      " \u001b[90m [442a2c76] \u001b[39m\u001b[92m+ FastGaussQuadrature v0.4.9\u001b[39m\n",
      " \u001b[90m [5903a43b] \u001b[39m\u001b[92m+ Infiltrator v1.6.1\u001b[39m\n",
      " \u001b[90m [5ab0869b] \u001b[39m\u001b[92m+ KernelDensity v0.6.5\u001b[39m\n",
      " \u001b[90m [b964fa9f] \u001b[39m\u001b[92m+ LaTeXStrings v1.3.0\u001b[39m\n",
      " \u001b[90m [bdcacae8] \u001b[39m\u001b[92m+ LoopVectorization v0.12.122\u001b[39m\n",
      " \u001b[90m [91a5bcdd] \u001b[39m\u001b[92m+ Plots v1.31.7\u001b[39m\n",
      " \u001b[90m [f517fe37] \u001b[39m\u001b[92m+ Polyester v0.6.14\u001b[39m\n",
      " \u001b[90m [08abe8d2] \u001b[39m\u001b[92m+ PrettyTables v1.3.1\u001b[39m\n",
      " \u001b[90m [1fd47b50] \u001b[39m\u001b[92m+ QuadGK v2.4.2\u001b[39m\n",
      " \u001b[90m [295af30f] \u001b[39m\u001b[92m+ Revise v3.4.0\u001b[39m\n",
      " \u001b[90m [f2b01f46] \u001b[39m\u001b[92m+ Roots v2.0.2\u001b[39m\n",
      " \u001b[90m [276daf66] \u001b[39m\u001b[92m+ SpecialFunctions v2.1.7\u001b[39m\n",
      " \u001b[90m [4c63d2b9] \u001b[39m\u001b[92m+ StatsFuns v1.0.1\u001b[39m\n",
      " \u001b[90m [f3b207a7] \u001b[39m\u001b[92m+ StatsPlots v0.15.1\u001b[39m\n",
      " \u001b[90m [3a884ed6] \u001b[39m\u001b[92m+ UnPack v1.0.2\u001b[39m\n",
      "\u001b[32m\u001b[1m    Updating\u001b[22m\u001b[39m `C:\\Users\\amado\\Documents\\GitHub\\floating_rate\\Manifest.toml`\n",
      " \u001b[90m [621f4979] \u001b[39m\u001b[92m+ AbstractFFTs v1.2.1\u001b[39m\n",
      " \u001b[90m [79e6a3ab] \u001b[39m\u001b[92m+ Adapt v3.4.0\u001b[39m\n",
      " \u001b[90m [7d9fca2a] \u001b[39m\u001b[92m+ Arpack v0.5.3\u001b[39m\n",
      " \u001b[90m [4fba245c] \u001b[39m\u001b[92m+ ArrayInterface v6.0.22\u001b[39m\n",
      " \u001b[90m [30b0a656] \u001b[39m\u001b[92m+ ArrayInterfaceCore v0.1.17\u001b[39m\n",
      " \u001b[90m [015c0d05] \u001b[39m\u001b[92m+ ArrayInterfaceOffsetArrays v0.1.6\u001b[39m\n",
      " \u001b[90m [b0d46f97] \u001b[39m\u001b[92m+ ArrayInterfaceStaticArrays v0.1.4\u001b[39m\n",
      " \u001b[90m [dd5226c6] \u001b[39m\u001b[92m+ ArrayInterfaceStaticArraysCore v0.1.0\u001b[39m\n",
      " \u001b[90m [13072b0f] \u001b[39m\u001b[92m+ AxisAlgorithms v1.0.1\u001b[39m\n",
      " \u001b[90m [6e4b80f9] \u001b[39m\u001b[92m+ BenchmarkTools v1.3.1\u001b[39m\n",
      " \u001b[90m [62783981] \u001b[39m\u001b[92m+ BitTwiddlingConvenienceFunctions v0.1.4\u001b[39m\n",
      " \u001b[90m [2a0fbf3d] \u001b[39m\u001b[92m+ CPUSummary v0.1.25\u001b[39m\n",
      " \u001b[90m [49dc2e85] \u001b[39m\u001b[92m+ Calculus v0.5.1\u001b[39m\n",
      " \u001b[90m [d360d2e6] \u001b[39m\u001b[92m+ ChainRulesCore v1.15.3\u001b[39m\n",
      " \u001b[90m [9e997f8a] \u001b[39m\u001b[92m+ ChangesOfVariables v0.1.4\u001b[39m\n",
      " \u001b[90m [fb6a15b2] \u001b[39m\u001b[92m+ CloseOpenIntervals v0.1.10\u001b[39m\n",
      " \u001b[90m [aaaa29a8] \u001b[39m\u001b[92m+ Clustering v0.14.2\u001b[39m\n",
      " \u001b[90m [da1fd8a2] \u001b[39m\u001b[92m+ CodeTracking v1.1.0\u001b[39m\n",
      " \u001b[90m [944b1d66] \u001b[39m\u001b[92m+ CodecZlib v0.7.0\u001b[39m\n",
      " \u001b[90m [35d6a980] \u001b[39m\u001b[92m+ ColorSchemes v3.19.0\u001b[39m\n",
      " \u001b[90m [3da002f7] \u001b[39m\u001b[92m+ ColorTypes v0.11.4\u001b[39m\n",
      " \u001b[90m [c3611d14] \u001b[39m\u001b[92m+ ColorVectorSpace v0.9.9\u001b[39m\n",
      " \u001b[90m [5ae59095] \u001b[39m\u001b[92m+ Colors v0.12.8\u001b[39m\n",
      " \u001b[90m [38540f10] \u001b[39m\u001b[92m+ CommonSolve v0.2.1\u001b[39m\n",
      " \u001b[90m [bbf7d656] \u001b[39m\u001b[92m+ CommonSubexpressions v0.3.0\u001b[39m\n",
      " \u001b[90m [34da2185] \u001b[39m\u001b[92m+ Compat v4.1.0\u001b[39m\n",
      " \u001b[90m [187b0558] \u001b[39m\u001b[92m+ ConstructionBase v1.4.0\u001b[39m\n",
      " \u001b[90m [d38c429a] \u001b[39m\u001b[92m+ Contour v0.6.2\u001b[39m\n",
      " \u001b[90m [adafc99b] \u001b[39m\u001b[92m+ CpuId v0.3.1\u001b[39m\n",
      " \u001b[90m [a8cc5b0e] \u001b[39m\u001b[92m+ Crayons v4.1.1\u001b[39m\n",
      " \u001b[90m [9a962f9c] \u001b[39m\u001b[92m+ DataAPI v1.10.0\u001b[39m\n",
      " \u001b[90m [864edb3b] \u001b[39m\u001b[92m+ DataStructures v0.18.13\u001b[39m\n",
      " \u001b[90m [e2d170a0] \u001b[39m\u001b[92m+ DataValueInterfaces v1.0.0\u001b[39m\n",
      " \u001b[90m [e7dc6d0d] \u001b[39m\u001b[92m+ DataValues v0.4.13\u001b[39m\n",
      " \u001b[90m [b429d917] \u001b[39m\u001b[92m+ DensityInterface v0.4.0\u001b[39m\n",
      " \u001b[90m [163ba53b] \u001b[39m\u001b[92m+ DiffResults v1.0.3\u001b[39m\n",
      " \u001b[90m [b552c78f] \u001b[39m\u001b[92m+ DiffRules v1.11.0\u001b[39m\n",
      " \u001b[90m [b4f34e82] \u001b[39m\u001b[92m+ Distances v0.10.7\u001b[39m\n",
      " \u001b[90m [31c24e10] \u001b[39m\u001b[92m+ Distributions v0.25.67\u001b[39m\n",
      " \u001b[90m [ffbed154] \u001b[39m\u001b[92m+ DocStringExtensions v0.9.1\u001b[39m\n",
      " \u001b[90m [fa6b7ba4] \u001b[39m\u001b[92m+ DualNumbers v0.6.8\u001b[39m\n",
      " \u001b[90m [411431e0] \u001b[39m\u001b[92m+ Extents v0.1.1\u001b[39m\n",
      " \u001b[90m [c87230d0] \u001b[39m\u001b[92m+ FFMPEG v0.4.1\u001b[39m\n",
      " \u001b[90m [7a1cc6ca] \u001b[39m\u001b[92m+ FFTW v1.5.0\u001b[39m\n",
      " \u001b[90m [442a2c76] \u001b[39m\u001b[92m+ FastGaussQuadrature v0.4.9\u001b[39m\n",
      " \u001b[90m [1a297f60] \u001b[39m\u001b[92m+ FillArrays v0.13.2\u001b[39m\n",
      " \u001b[90m [53c48c17] \u001b[39m\u001b[92m+ FixedPointNumbers v0.8.4\u001b[39m\n",
      " \u001b[90m [59287772] \u001b[39m\u001b[92m+ Formatting v0.4.2\u001b[39m\n",
      " \u001b[90m [f6369f11] \u001b[39m\u001b[92m+ ForwardDiff v0.10.32\u001b[39m\n",
      " \u001b[90m [28b8d3ca] \u001b[39m\u001b[92m+ GR v0.66.2\u001b[39m\n",
      " \u001b[90m [cf35fbd7] \u001b[39m\u001b[92m+ GeoInterface v1.0.1\u001b[39m\n",
      " \u001b[90m [5c1252a2] \u001b[39m\u001b[92m+ GeometryBasics v0.4.3\u001b[39m\n",
      " \u001b[90m [42e2da0e] \u001b[39m\u001b[92m+ Grisu v1.0.2\u001b[39m\n",
      " \u001b[90m [cd3eb016] \u001b[39m\u001b[92m+ HTTP v1.2.1\u001b[39m\n",
      " \u001b[90m [3e5b6fbb] \u001b[39m\u001b[92m+ HostCPUFeatures v0.1.8\u001b[39m\n",
      " \u001b[90m [34004b35] \u001b[39m\u001b[92m+ HypergeometricFunctions v0.3.11\u001b[39m\n",
      " \u001b[90m [615f187c] \u001b[39m\u001b[92m+ IfElse v0.1.1\u001b[39m\n",
      " \u001b[90m [5903a43b] \u001b[39m\u001b[92m+ Infiltrator v1.6.1\u001b[39m\n",
      " \u001b[90m [83e8ac13] \u001b[39m\u001b[92m+ IniFile v0.5.1\u001b[39m\n",
      " \u001b[90m [a98d9a8b] \u001b[39m\u001b[92m+ Interpolations v0.14.4\u001b[39m\n",
      " \u001b[90m [3587e190] \u001b[39m\u001b[92m+ InverseFunctions v0.1.7\u001b[39m\n",
      " \u001b[90m [92d709cd] \u001b[39m\u001b[92m+ IrrationalConstants v0.1.1\u001b[39m\n",
      " \u001b[90m [c8e1da08] \u001b[39m\u001b[92m+ IterTools v1.4.0\u001b[39m\n",
      " \u001b[90m [82899510] \u001b[39m\u001b[92m+ IteratorInterfaceExtensions v1.0.0\u001b[39m\n",
      " \u001b[90m [692b3bcd] \u001b[39m\u001b[92m+ JLLWrappers v1.4.1\u001b[39m\n",
      " \u001b[90m [682c06a0] \u001b[39m\u001b[92m+ JSON v0.21.3\u001b[39m\n",
      " \u001b[90m [aa1ae85d] \u001b[39m\u001b[92m+ JuliaInterpreter v0.9.15\u001b[39m\n",
      " \u001b[90m [5ab0869b] \u001b[39m\u001b[92m+ KernelDensity v0.6.5\u001b[39m\n",
      " \u001b[90m [b964fa9f] \u001b[39m\u001b[92m+ LaTeXStrings v1.3.0\u001b[39m\n",
      " \u001b[90m [23fbe1c1] \u001b[39m\u001b[92m+ Latexify v0.15.16\u001b[39m\n",
      " \u001b[90m [10f19ff3] \u001b[39m\u001b[92m+ LayoutPointers v0.1.10\u001b[39m\n",
      " \u001b[90m [2ab3a3ac] \u001b[39m\u001b[92m+ LogExpFunctions v0.3.17\u001b[39m\n",
      " \u001b[90m [e6f89c97] \u001b[39m\u001b[92m+ LoggingExtras v0.4.9\u001b[39m\n",
      " \u001b[90m [bdcacae8] \u001b[39m\u001b[92m+ LoopVectorization v0.12.122\u001b[39m\n",
      " \u001b[90m [6f1432cf] \u001b[39m\u001b[92m+ LoweredCodeUtils v2.2.2\u001b[39m\n",
      " \u001b[90m [1914dd2f] \u001b[39m\u001b[92m+ MacroTools v0.5.9\u001b[39m\n",
      " \u001b[90m [d125e4d3] \u001b[39m\u001b[92m+ ManualMemory v0.1.8\u001b[39m\n",
      " \u001b[90m [739be429] \u001b[39m\u001b[92m+ MbedTLS v1.1.3\u001b[39m\n",
      " \u001b[90m [442fdcdd] \u001b[39m\u001b[92m+ Measures v0.3.1\u001b[39m\n",
      " \u001b[90m [e1d29d7a] \u001b[39m\u001b[92m+ Missings v1.0.2\u001b[39m\n",
      " \u001b[90m [6f286f6a] \u001b[39m\u001b[92m+ MultivariateStats v0.9.0\u001b[39m\n",
      " \u001b[90m [77ba4419] \u001b[39m\u001b[92m+ NaNMath v1.0.1\u001b[39m\n",
      " \u001b[90m [b8a86587] \u001b[39m\u001b[92m+ NearestNeighbors v0.4.11\u001b[39m\n",
      " \u001b[90m [510215fc] \u001b[39m\u001b[92m+ Observables v0.5.1\u001b[39m\n",
      " \u001b[90m [6fe1bfb0] \u001b[39m\u001b[92m+ OffsetArrays v1.12.7\u001b[39m\n",
      " \u001b[90m [bac558e1] \u001b[39m\u001b[92m+ OrderedCollections v1.4.1\u001b[39m\n",
      " \u001b[90m [90014a1f] \u001b[39m\u001b[92m+ PDMats v0.11.16\u001b[39m\n",
      " \u001b[90m [69de0a69] \u001b[39m\u001b[92m+ Parsers v2.3.2\u001b[39m\n",
      " \u001b[90m [ccf2f8ad] \u001b[39m\u001b[92m+ PlotThemes v3.0.0\u001b[39m\n",
      " \u001b[90m [995b91a9] \u001b[39m\u001b[92m+ PlotUtils v1.3.0\u001b[39m\n",
      " \u001b[90m [91a5bcdd] \u001b[39m\u001b[92m+ Plots v1.31.7\u001b[39m\n",
      " \u001b[90m [f517fe37] \u001b[39m\u001b[92m+ Polyester v0.6.14\u001b[39m\n",
      " \u001b[90m [1d0040c9] \u001b[39m\u001b[92m+ PolyesterWeave v0.1.8\u001b[39m\n",
      " \u001b[90m [21216c6a] \u001b[39m\u001b[92m+ Preferences v1.3.0\u001b[39m\n",
      " \u001b[90m [08abe8d2] \u001b[39m\u001b[92m+ PrettyTables v1.3.1\u001b[39m\n",
      " \u001b[90m [1fd47b50] \u001b[39m\u001b[92m+ QuadGK v2.4.2\u001b[39m\n",
      " \u001b[90m [c84ed2f1] \u001b[39m\u001b[92m+ Ratios v0.4.3\u001b[39m\n",
      " \u001b[90m [3cdcf5f2] \u001b[39m\u001b[92m+ RecipesBase v1.2.1\u001b[39m\n",
      " \u001b[90m [01d81517] \u001b[39m\u001b[92m+ RecipesPipeline v0.6.3\u001b[39m\n",
      " \u001b[90m [189a3867] \u001b[39m\u001b[92m+ Reexport v1.2.2\u001b[39m\n",
      " \u001b[90m [05181044] \u001b[39m\u001b[92m+ RelocatableFolders v0.3.0\u001b[39m\n",
      " \u001b[90m [ae029012] \u001b[39m\u001b[92m+ Requires v1.3.0\u001b[39m\n",
      " \u001b[90m [295af30f] \u001b[39m\u001b[92m+ Revise v3.4.0\u001b[39m\n",
      " \u001b[90m [79098fc4] \u001b[39m\u001b[92m+ Rmath v0.7.0\u001b[39m\n",
      " \u001b[90m [f2b01f46] \u001b[39m\u001b[92m+ Roots v2.0.2\u001b[39m\n",
      " \u001b[90m [3cdde19b] \u001b[39m\u001b[92m+ SIMDDualNumbers v0.1.1\u001b[39m\n",
      " \u001b[90m [94e857df] \u001b[39m\u001b[92m+ SIMDTypes v0.1.0\u001b[39m\n",
      " \u001b[90m [476501e8] \u001b[39m\u001b[92m+ SLEEFPirates v0.6.33\u001b[39m\n",
      " \u001b[90m [6c6a2e73] \u001b[39m\u001b[92m+ Scratch v1.1.1\u001b[39m\n",
      " \u001b[90m [91c51154] \u001b[39m\u001b[92m+ SentinelArrays v1.3.13\u001b[39m\n",
      " \u001b[90m [efcf1570] \u001b[39m\u001b[92m+ Setfield v1.1.0\u001b[39m\n",
      " \u001b[90m [992d4aef] \u001b[39m\u001b[92m+ Showoff v1.0.3\u001b[39m\n",
      " \u001b[90m [777ac1f9] \u001b[39m\u001b[92m+ SimpleBufferStream v1.1.0\u001b[39m\n",
      " \u001b[90m [66db9d55] \u001b[39m\u001b[92m+ SnoopPrecompile v1.0.0\u001b[39m\n",
      " \u001b[90m [a2af1166] \u001b[39m\u001b[92m+ SortingAlgorithms v1.0.1\u001b[39m\n",
      " \u001b[90m [276daf66] \u001b[39m\u001b[92m+ SpecialFunctions v2.1.7\u001b[39m\n",
      " \u001b[90m [aedffcd0] \u001b[39m\u001b[92m+ Static v0.7.6\u001b[39m\n",
      " \u001b[90m [90137ffa] \u001b[39m\u001b[92m+ StaticArrays v1.5.4\u001b[39m\n",
      " \u001b[90m [1e83bf80] \u001b[39m\u001b[92m+ StaticArraysCore v1.1.0\u001b[39m\n",
      " \u001b[90m [82ae8749] \u001b[39m\u001b[92m+ StatsAPI v1.5.0\u001b[39m\n",
      " \u001b[90m [2913bbd2] \u001b[39m\u001b[92m+ StatsBase v0.33.21\u001b[39m\n",
      " \u001b[90m [4c63d2b9] \u001b[39m\u001b[92m+ StatsFuns v1.0.1\u001b[39m\n",
      " \u001b[90m [f3b207a7] \u001b[39m\u001b[92m+ StatsPlots v0.15.1\u001b[39m\n",
      " \u001b[90m [7792a7ef] \u001b[39m\u001b[92m+ StrideArraysCore v0.3.15\u001b[39m\n",
      " \u001b[90m [09ab397b] \u001b[39m\u001b[92m+ StructArrays v0.6.11\u001b[39m\n",
      " \u001b[90m [ab02a1b2] \u001b[39m\u001b[92m+ TableOperations v1.2.0\u001b[39m\n",
      " \u001b[90m [3783bdb8] \u001b[39m\u001b[92m+ TableTraits v1.0.1\u001b[39m\n",
      " \u001b[90m [bd369af6] \u001b[39m\u001b[92m+ Tables v1.7.0\u001b[39m\n",
      " \u001b[90m [62fd8b95] \u001b[39m\u001b[92m+ TensorCore v0.1.1\u001b[39m\n",
      " \u001b[90m [8290d209] \u001b[39m\u001b[92m+ ThreadingUtilities v0.5.0\u001b[39m\n",
      " \u001b[90m [3bb67fe8] \u001b[39m\u001b[92m+ TranscodingStreams v0.9.6\u001b[39m\n",
      " \u001b[90m [5c2747f8] \u001b[39m\u001b[92m+ URIs v1.4.0\u001b[39m\n",
      " \u001b[90m [3a884ed6] \u001b[39m\u001b[92m+ UnPack v1.0.2\u001b[39m\n",
      " \u001b[90m [1cfade01] \u001b[39m\u001b[92m+ UnicodeFun v0.4.1\u001b[39m\n",
      " \u001b[90m [41fe7b60] \u001b[39m\u001b[92m+ Unzip v0.1.2\u001b[39m\n",
      " \u001b[90m [3d5dd08c] \u001b[39m\u001b[92m+ VectorizationBase v0.21.46\u001b[39m\n",
      " \u001b[90m [cc8bc4a8] \u001b[39m\u001b[92m+ Widgets v0.6.6\u001b[39m\n",
      " \u001b[90m [efce3f68] \u001b[39m\u001b[92m+ WoodburyMatrices v0.5.5\u001b[39m\n",
      " \u001b[90m [68821587] \u001b[39m\u001b[92m+ Arpack_jll v3.5.1+1\u001b[39m\n",
      " \u001b[90m [6e34b625] \u001b[39m\u001b[92m+ Bzip2_jll v1.0.8+0\u001b[39m\n",
      " \u001b[90m [83423d85] \u001b[39m\u001b[92m+ Cairo_jll v1.16.1+1\u001b[39m\n",
      " \u001b[90m [5ae413db] \u001b[39m\u001b[92m+ EarCut_jll v2.2.3+0\u001b[39m\n",
      " \u001b[90m [2e619515] \u001b[39m\u001b[92m+ Expat_jll v2.4.8+0\u001b[39m\n",
      " \u001b[90m [b22a6f82] \u001b[39m\u001b[92m+ FFMPEG_jll v4.4.2+0\u001b[39m\n",
      " \u001b[90m [f5851436] \u001b[39m\u001b[92m+ FFTW_jll v3.3.10+0\u001b[39m\n",
      " \u001b[90m [a3f928ae] \u001b[39m\u001b[92m+ Fontconfig_jll v2.13.93+0\u001b[39m\n",
      " \u001b[90m [d7e528f0] \u001b[39m\u001b[92m+ FreeType2_jll v2.10.4+0\u001b[39m\n",
      " \u001b[90m [559328eb] \u001b[39m\u001b[92m+ FriBidi_jll v1.0.10+0\u001b[39m\n",
      " \u001b[90m [0656b61e] \u001b[39m\u001b[92m+ GLFW_jll v3.3.8+0\u001b[39m\n",
      " \u001b[90m [d2c73de3] \u001b[39m\u001b[92m+ GR_jll v0.66.2+0\u001b[39m\n",
      " \u001b[90m [78b55507] \u001b[39m\u001b[92m+ Gettext_jll v0.21.0+0\u001b[39m\n",
      " \u001b[90m [7746bdde] \u001b[39m\u001b[92m+ Glib_jll v2.68.3+2\u001b[39m\n",
      " \u001b[90m [3b182d85] \u001b[39m\u001b[92m+ Graphite2_jll v1.3.14+0\u001b[39m\n",
      " \u001b[90m [2e76f6c2] \u001b[39m\u001b[92m+ HarfBuzz_jll v2.8.1+1\u001b[39m\n",
      " \u001b[90m [1d5cc7b8] \u001b[39m\u001b[92m+ IntelOpenMP_jll v2018.0.3+2\u001b[39m\n",
      " \u001b[90m [aacddb02] \u001b[39m\u001b[92m+ JpegTurbo_jll v2.1.2+0\u001b[39m\n",
      " \u001b[90m [c1c5ebd0] \u001b[39m\u001b[92m+ LAME_jll v3.100.1+0\u001b[39m\n",
      " \u001b[90m [88015f11] \u001b[39m\u001b[92m+ LERC_jll v3.0.0+1\u001b[39m\n",
      " \u001b[90m [dd4b983a] \u001b[39m\u001b[92m+ LZO_jll v2.10.1+0\u001b[39m\n",
      " \u001b[90m [e9f186c6] \u001b[39m\u001b[92m+ Libffi_jll v3.2.2+1\u001b[39m\n",
      " \u001b[90m [d4300ac3] \u001b[39m\u001b[92m+ Libgcrypt_jll v1.8.7+0\u001b[39m\n",
      " \u001b[90m [7e76a0d4] \u001b[39m\u001b[92m+ Libglvnd_jll v1.3.0+3\u001b[39m\n",
      " \u001b[90m [7add5ba3] \u001b[39m\u001b[92m+ Libgpg_error_jll v1.42.0+0\u001b[39m\n",
      " \u001b[90m [94ce4f54] \u001b[39m\u001b[92m+ Libiconv_jll v1.16.1+1\u001b[39m\n",
      " \u001b[90m [4b2f31a3] \u001b[39m\u001b[92m+ Libmount_jll v2.35.0+0\u001b[39m\n",
      " \u001b[90m [89763e89] \u001b[39m\u001b[92m+ Libtiff_jll v4.4.0+0\u001b[39m\n",
      " \u001b[90m [38a345b3] \u001b[39m\u001b[92m+ Libuuid_jll v2.36.0+0\u001b[39m\n",
      " \u001b[90m [856f044c] \u001b[39m\u001b[92m+ MKL_jll v2022.0.0+0\u001b[39m\n",
      " \u001b[90m [e7412a2a] \u001b[39m\u001b[92m+ Ogg_jll v1.3.5+1\u001b[39m\n",
      " \u001b[90m [458c3c95] \u001b[39m\u001b[92m+ OpenSSL_jll v1.1.17+0\u001b[39m\n",
      " \u001b[90m [efe28fd5] \u001b[39m\u001b[92m+ OpenSpecFun_jll v0.5.5+0\u001b[39m\n",
      " \u001b[90m [91d4177d] \u001b[39m\u001b[92m+ Opus_jll v1.3.2+0\u001b[39m\n",
      " \u001b[90m [2f80f16e] \u001b[39m\u001b[92m+ PCRE_jll v8.44.0+0\u001b[39m\n",
      " \u001b[90m [30392449] \u001b[39m\u001b[92m+ Pixman_jll v0.40.1+0\u001b[39m\n",
      " \u001b[90m [ea2cea3b] \u001b[39m\u001b[92m+ Qt5Base_jll v5.15.3+1\u001b[39m\n",
      " \u001b[90m [f50d1b31] \u001b[39m\u001b[92m+ Rmath_jll v0.3.0+0\u001b[39m\n",
      " \u001b[90m [a2964d1f] \u001b[39m\u001b[92m+ Wayland_jll v1.19.0+0\u001b[39m\n",
      " \u001b[90m [2381bf8a] \u001b[39m\u001b[92m+ Wayland_protocols_jll v1.25.0+0\u001b[39m\n",
      " \u001b[90m [02c8fc9c] \u001b[39m\u001b[92m+ XML2_jll v2.9.14+0\u001b[39m\n",
      " \u001b[90m [aed1982a] \u001b[39m\u001b[92m+ XSLT_jll v1.1.34+0\u001b[39m\n",
      " \u001b[90m [4f6342f7] \u001b[39m\u001b[92m+ Xorg_libX11_jll v1.6.9+4\u001b[39m\n",
      " \u001b[90m [0c0b7dd1] \u001b[39m\u001b[92m+ Xorg_libXau_jll v1.0.9+4\u001b[39m\n",
      " \u001b[90m [935fb764] \u001b[39m\u001b[92m+ Xorg_libXcursor_jll v1.2.0+4\u001b[39m\n",
      " \u001b[90m [a3789734] \u001b[39m\u001b[92m+ Xorg_libXdmcp_jll v1.1.3+4\u001b[39m\n",
      " \u001b[90m [1082639a] \u001b[39m\u001b[92m+ Xorg_libXext_jll v1.3.4+4\u001b[39m\n",
      " \u001b[90m [d091e8ba] \u001b[39m\u001b[92m+ Xorg_libXfixes_jll v5.0.3+4\u001b[39m\n",
      " \u001b[90m [a51aa0fd] \u001b[39m\u001b[92m+ Xorg_libXi_jll v1.7.10+4\u001b[39m\n",
      " \u001b[90m [d1454406] \u001b[39m\u001b[92m+ Xorg_libXinerama_jll v1.1.4+4\u001b[39m\n",
      " \u001b[90m [ec84b674] \u001b[39m\u001b[92m+ Xorg_libXrandr_jll v1.5.2+4\u001b[39m\n",
      " \u001b[90m [ea2f1a96] \u001b[39m\u001b[92m+ Xorg_libXrender_jll v0.9.10+4\u001b[39m\n",
      " \u001b[90m [14d82f49] \u001b[39m\u001b[92m+ Xorg_libpthread_stubs_jll v0.1.0+3\u001b[39m\n",
      " \u001b[90m [c7cfdc94] \u001b[39m\u001b[92m+ Xorg_libxcb_jll v1.13.0+3\u001b[39m\n",
      " \u001b[90m [cc61e674] \u001b[39m\u001b[92m+ Xorg_libxkbfile_jll v1.1.0+4\u001b[39m\n",
      " \u001b[90m [12413925] \u001b[39m\u001b[92m+ Xorg_xcb_util_image_jll v0.4.0+1\u001b[39m\n",
      " \u001b[90m [2def613f] \u001b[39m\u001b[92m+ Xorg_xcb_util_jll v0.4.0+1\u001b[39m\n",
      " \u001b[90m [975044d2] \u001b[39m\u001b[92m+ Xorg_xcb_util_keysyms_jll v0.4.0+1\u001b[39m\n",
      " \u001b[90m [0d47668e] \u001b[39m\u001b[92m+ Xorg_xcb_util_renderutil_jll v0.3.9+1\u001b[39m\n",
      " \u001b[90m [c22f9ab0] \u001b[39m\u001b[92m+ Xorg_xcb_util_wm_jll v0.4.1+1\u001b[39m\n",
      " \u001b[90m [35661453] \u001b[39m\u001b[92m+ Xorg_xkbcomp_jll v1.4.2+4\u001b[39m\n",
      " \u001b[90m [33bec58e] \u001b[39m\u001b[92m+ Xorg_xkeyboard_config_jll v2.27.0+4\u001b[39m\n",
      " \u001b[90m [c5fb5394] \u001b[39m\u001b[92m+ Xorg_xtrans_jll v1.4.0+3\u001b[39m\n",
      " \u001b[90m [3161d3a3] \u001b[39m\u001b[92m+ Zstd_jll v1.5.2+0\u001b[39m\n",
      " \u001b[90m [a4ae2306] \u001b[39m\u001b[92m+ libaom_jll v3.4.0+0\u001b[39m\n",
      " \u001b[90m [0ac62f75] \u001b[39m\u001b[92m+ libass_jll v0.15.1+0\u001b[39m\n",
      " \u001b[90m [f638f0a6] \u001b[39m\u001b[92m+ libfdk_aac_jll v2.0.2+0\u001b[39m\n",
      " \u001b[90m [b53b4c65] \u001b[39m\u001b[92m+ libpng_jll v1.6.38+0\u001b[39m\n",
      " \u001b[90m [f27f6e37] \u001b[39m\u001b[92m+ libvorbis_jll v1.3.7+1\u001b[39m\n",
      " \u001b[90m [1270edf5] \u001b[39m\u001b[92m+ x264_jll v2021.5.5+0\u001b[39m\n",
      " \u001b[90m [dfaa095f] \u001b[39m\u001b[92m+ x265_jll v3.5.0+0\u001b[39m\n",
      " \u001b[90m [d8fb68d0] \u001b[39m\u001b[92m+ xkbcommon_jll v1.4.1+0\u001b[39m\n",
      " \u001b[90m [0dad84c5] \u001b[39m\u001b[92m+ ArgTools\u001b[39m\n",
      " \u001b[90m [56f22d72] \u001b[39m\u001b[92m+ Artifacts\u001b[39m\n",
      " \u001b[90m [2a0f44e3] \u001b[39m\u001b[92m+ Base64\u001b[39m\n",
      " \u001b[90m [ade2ca70] \u001b[39m\u001b[92m+ Dates\u001b[39m\n",
      " \u001b[90m [8bb1440f] \u001b[39m\u001b[92m+ DelimitedFiles\u001b[39m\n",
      " \u001b[90m [8ba89e20] \u001b[39m\u001b[92m+ Distributed\u001b[39m\n",
      " \u001b[90m [f43a241f] \u001b[39m\u001b[92m+ Downloads\u001b[39m\n",
      " \u001b[90m [7b1f6079] \u001b[39m\u001b[92m+ FileWatching\u001b[39m\n",
      " \u001b[90m [9fa8497b] \u001b[39m\u001b[92m+ Future\u001b[39m\n",
      " \u001b[90m [b77e0a4c] \u001b[39m\u001b[92m+ InteractiveUtils\u001b[39m\n",
      " \u001b[90m [4af54fe1] \u001b[39m\u001b[92m+ LazyArtifacts\u001b[39m\n",
      " \u001b[90m [b27032c2] \u001b[39m\u001b[92m+ LibCURL\u001b[39m\n",
      " \u001b[90m [76f85450] \u001b[39m\u001b[92m+ LibGit2\u001b[39m\n",
      " \u001b[90m [8f399da3] \u001b[39m\u001b[92m+ Libdl\u001b[39m\n",
      " \u001b[90m [37e2e46d] \u001b[39m\u001b[92m+ LinearAlgebra\u001b[39m\n",
      " \u001b[90m [56ddb016] \u001b[39m\u001b[92m+ Logging\u001b[39m\n",
      " \u001b[90m [d6f4376e] \u001b[39m\u001b[92m+ Markdown\u001b[39m\n",
      " \u001b[90m [a63ad114] \u001b[39m\u001b[92m+ Mmap\u001b[39m\n",
      " \u001b[90m [ca575930] \u001b[39m\u001b[92m+ NetworkOptions\u001b[39m\n",
      " \u001b[90m [44cfe95a] \u001b[39m\u001b[92m+ Pkg\u001b[39m\n",
      " \u001b[90m [de0858da] \u001b[39m\u001b[92m+ Printf\u001b[39m\n",
      " \u001b[90m [9abbd945] \u001b[39m\u001b[92m+ Profile\u001b[39m\n",
      " \u001b[90m [3fa0cd96] \u001b[39m\u001b[92m+ REPL\u001b[39m\n",
      " \u001b[90m [9a3f8284] \u001b[39m\u001b[92m+ Random\u001b[39m\n",
      " \u001b[90m [ea8e919c] \u001b[39m\u001b[92m+ SHA\u001b[39m\n",
      " \u001b[90m [9e88b42a] \u001b[39m\u001b[92m+ Serialization\u001b[39m\n",
      " \u001b[90m [1a1011a3] \u001b[39m\u001b[92m+ SharedArrays\u001b[39m\n",
      " \u001b[90m [6462fe0b] \u001b[39m\u001b[92m+ Sockets\u001b[39m\n",
      " \u001b[90m [2f01184e] \u001b[39m\u001b[92m+ SparseArrays\u001b[39m\n",
      " \u001b[90m [10745b16] \u001b[39m\u001b[92m+ Statistics\u001b[39m\n",
      " \u001b[90m [4607b0f0] \u001b[39m\u001b[92m+ SuiteSparse\u001b[39m\n",
      " \u001b[90m [fa267f1f] \u001b[39m\u001b[92m+ TOML\u001b[39m\n",
      " \u001b[90m [a4e569a6] \u001b[39m\u001b[92m+ Tar\u001b[39m\n",
      " \u001b[90m [8dfed614] \u001b[39m\u001b[92m+ Test\u001b[39m\n",
      " \u001b[90m [cf7118a7] \u001b[39m\u001b[92m+ UUIDs\u001b[39m\n",
      " \u001b[90m [4ec0a83e] \u001b[39m\u001b[92m+ Unicode\u001b[39m\n",
      " \u001b[90m [e66e0078] \u001b[39m\u001b[92m+ CompilerSupportLibraries_jll\u001b[39m\n",
      " \u001b[90m [deac9b47] \u001b[39m\u001b[92m+ LibCURL_jll\u001b[39m\n",
      " \u001b[90m [29816b5a] \u001b[39m\u001b[92m+ LibSSH2_jll\u001b[39m\n",
      " \u001b[90m [c8ffd9c3] \u001b[39m\u001b[92m+ MbedTLS_jll\u001b[39m\n",
      " \u001b[90m [14a3606d] \u001b[39m\u001b[92m+ MozillaCACerts_jll\u001b[39m\n",
      " \u001b[90m [4536629a] \u001b[39m\u001b[92m+ OpenBLAS_jll\u001b[39m\n",
      " \u001b[90m [05823500] \u001b[39m\u001b[92m+ OpenLibm_jll\u001b[39m\n",
      " \u001b[90m [83775a58] \u001b[39m\u001b[92m+ Zlib_jll\u001b[39m\n",
      " \u001b[90m [8e850b90] \u001b[39m\u001b[92m+ libblastrampoline_jll\u001b[39m\n",
      " \u001b[90m [8e850ede] \u001b[39m\u001b[92m+ nghttp2_jll\u001b[39m\n",
      " \u001b[90m [3f19e933] \u001b[39m\u001b[92m+ p7zip_jll\u001b[39m\n",
      "\u001b[32m\u001b[1m    Building\u001b[22m\u001b[39m GR → `C:\\Users\\amado\\.julia\\scratchspaces\\44cfe95a-1eb2-52ea-b672-e2afdf69b78f\\cf0a9940f250dc3cb6cc6c6821b4bf8a4286cf9c\\build.log`\n",
      "┌ Info: Precompiling LTBonds [aa089605-4e88-46e3-9b65-fed36a7af264]\n",
      "└ @ Base loading.jl:1423\n"
     ]
    }
   ],
   "source": [
    "import Pkg; Pkg.activate(joinpath(@__DIR__, \"..\")); Pkg.instantiate()\n",
    "\n",
    "using LTBonds\n",
    "using Random \n",
    "using PrettyTables"
   ]
  },
  {
   "cell_type": "code",
   "execution_count": 4,
   "metadata": {},
   "outputs": [
    {
     "data": {
      "text/plain": [
       "false"
      ]
     },
     "execution_count": 4,
     "metadata": {},
     "output_type": "execute_result"
    }
   ],
   "source": [
    "SAVE_MOMENTS = false # set to true to save the moments to file. "
   ]
  },
  {
   "cell_type": "code",
   "execution_count": 5,
   "metadata": {},
   "outputs": [
    {
     "data": {
      "text/plain": [
       "(R = 1.01, pref = Preferences{CRRA2, Float64}(0.954023242, CRRA2), y = YDiscretized{YProcess{Float64, Int64}, Vector{Float64}, Matrix{Float64}, Float64}(YProcess{Float64, Int64}(50, 0.948503, 0.027092, 0.0, 3.0, false), [0.7736940032094284, 0.7818391711984078, 0.7900700885421625, 0.7983876579785925, 0.8067927917492923, 0.8152864116996035, 0.8238694493797185, 0.8325428461468501, 0.8413075532684764, 0.8501645320266717  …  1.176242906318547, 1.1886259621882678, 1.2011393823491128, 1.2137845392287432, 1.2265628197032372, 1.239475625249198, 1.2525243720974624, 1.2657104913884287, 1.279035429329019, 1.2925006473512937], [0.18120181525570228 0.12535504447193643 … 7.742222869464416e-72 1.1380889180175488e-74; 0.20275862347026066 0.16134314683122294 … 7.409028633939995e-69 1.2544237399520442e-71; … ; 0.0 0.0 … 0.1613431468312228 0.20275862347026077; 0.0 0.0 … 0.12535504447193643 0.18120181525570228], 1.0036640682963884), m = MTruncatedNormal{Float64, Distributions.Truncated{Distributions.Normal{Float64}, Distributions.Continuous, Float64}, Vector{Float64}}(Truncated(Distributions.Normal{Float64}(μ=0.0, σ=0.01); lower=-0.02, upper=0.02), -0.02, 0.02, 0.01, 41.795955023513464, 70.71067811865476, 0.022750131948179205, 1.0476692262714444, [-0.9997137267734413, -0.9984919506395958, -0.9962951347331251, -0.9931249370374434, -0.9889843952429918, -0.983877540706057, -0.9778093584869183, -0.9707857757637063, -0.9628136542558156, -0.9539007829254917  …  0.9539007829254917, 0.9628136542558156, 0.9707857757637063, 0.9778093584869183, 0.983877540706057, 0.9889843952429918, 0.9931249370374434, 0.9962951347331251, 0.9984919506395958, 0.9997137267734413], [0.0007346344905056717, 0.001709392653518105, 0.0026839253715534818, 0.003655961201326376, 0.004624450063422119, 0.005588428003865517, 0.006546948450845323, 0.007499073255464713, 0.008443871469668972, 0.009380419653694457  …  0.009380419653694457, 0.008443871469668972, 0.007499073255464713, 0.006546948450845323, 0.005588428003865517, 0.004624450063422119, 0.003655961201326376, 0.0026839253715534818, 0.001709392653518105, 0.0007346344905056717], [3.0e-323, 1.0e-323, 1.0e-323, 5.0e-324, 1.5e-323, 0.0, 5.0e-324, 5.0e-324, 0.0, 5.0e-324  …  5.0e-324, 0.0, 5.0e-324, 5.0e-324, 5.0e-324, 5.0e-324, 5.0e-324, 0.0, 0.0, 5.0e-324]), penalty = DefCosts{Float64}(-0.188192755, 0.2455843389, 0.0, true, 0.0385), η = 0.1)"
      ]
     },
     "execution_count": 5,
     "metadata": {},
     "output_type": "execute_result"
    }
   ],
   "source": [
    "benchmark_parameters =  let\n",
    "    R = 1.01\n",
    "    β = 0.9540232420\n",
    "    pref = Preferences(β = β, u = make_CRRA(ra = 2))\n",
    "    y = discretize(YProcess(n = 50, ρ = 0.948503, std = 0.027092, μ = 0.0, span = 3.0, tails = false))\n",
    "    m = MTruncatedNormal(; std = 0.01, span = 2.0, quadN = 100)\n",
    "    penalty = DefCosts(pen1 = -0.1881927550, pen2 = 0.2455843389, quadratic = true, reentry = 0.0385)\n",
    "    η=0.1\n",
    "\n",
    "    (R=R, pref=pref,  y=y, m=m, penalty=penalty, η=η )\n",
    "end"
   ]
  },
  {
   "cell_type": "code",
   "execution_count": 20,
   "metadata": {},
   "outputs": [],
   "source": [
    "mFR, mFRlowκ, mEGLT, mCKLT, mEGST, mCKST, mFRperp = let\n",
    "    R, pref, y, m, penalty, η = benchmark_parameters\n",
    "\n",
    "    bondFR = FloatingRateBond(;n = 350, min = 0.0, max = 1.5, λ = 0.05, κbar = 1.0) \n",
    "    bondFRlowκ = FloatingRateBond(;n = 350, min = 0.0, max = 1.5, λ = 0.05, κbar = 0.015) \n",
    "    bondLT = Bond(n = 350, min = 0.0, max = 1.5, κ = R - 1, λ = 0.05)  \n",
    "    bondST = Bond(n = 350, min = 0.0, max = 1.5, κ = R - 1, λ = 1.0)  \n",
    "    bondFRperp = FloatingRateBond(;n = 350, min = 0.0, max = 1.5, λ = 0.0, κbar = 0.05) \n",
    "\n",
    "    fr = CKLTBondModel(\n",
    "        y = y,\n",
    "        m = m, \n",
    "        preferences = pref, \n",
    "        bond = bondFR, \n",
    "        def_costs = penalty, \n",
    "        R = R,\n",
    "        η = η\n",
    "    )   \n",
    "\n",
    "    frlowκ = CKLTBondModel(\n",
    "        y = y,\n",
    "        m = m, \n",
    "        preferences = pref, \n",
    "        bond = bondFRlowκ, \n",
    "        def_costs = penalty, \n",
    "        R = R,\n",
    "        η = η\n",
    "    )   \n",
    "\n",
    "    egLT = LTBondModel(\n",
    "        y = y,\n",
    "        m = m, \n",
    "        preferences = pref, \n",
    "        bond = bondLT, \n",
    "        def_costs = penalty, \n",
    "        R = R,\n",
    "    )\n",
    "\n",
    "    ckLT = CKLTBondModel(\n",
    "        y = y,\n",
    "        m = m, \n",
    "        preferences = pref, \n",
    "        bond = bondLT, \n",
    "        def_costs = penalty, \n",
    "        R = R,\n",
    "        η = η\n",
    "    )\n",
    "\n",
    "    egST = LTBondModel(\n",
    "        y = y,\n",
    "        m = m, \n",
    "        preferences = pref, \n",
    "        bond = bondST, \n",
    "        def_costs = penalty, \n",
    "        R = R,\n",
    "    )\n",
    "\n",
    "    ckST = CKLTBondModel(\n",
    "        y = y,\n",
    "        m = m, \n",
    "        preferences = pref, \n",
    "        bond = bondST, \n",
    "        def_costs = penalty, \n",
    "        R = R,\n",
    "        η = η\n",
    "    )\n",
    "\n",
    "    frperp = CKLTBondModel(\n",
    "        y = y,\n",
    "        m = m, \n",
    "        preferences = pref, \n",
    "        bond = bondFRperp, \n",
    "        def_costs = penalty, \n",
    "        R = R,\n",
    "        η = η\n",
    "    )   \n",
    "\n",
    "\n",
    "    (generate_workspace(fr), generate_workspace(frlowκ), generate_workspace(egLT), generate_workspace(ckLT), generate_workspace(egST), generate_workspace(ckST), generate_workspace(frperp) )\n",
    "end;"
   ]
  },
  {
   "cell_type": "code",
   "execution_count": 21,
   "metadata": {},
   "outputs": [
    {
     "name": "stdout",
     "output_type": "stream",
     "text": [
      "1: (v = 1.4304966712931169, κ = 0.99, q = 0.6091402083520796, vD = 0.5336647908767169)\n",
      "101: (v = 0.5946309463050952, κ = 0.8783079426374396, q = 0.8590067975969744, vD = 0.0016515421610243664)\n",
      "201: (v = 0.5578743684368312, κ = 0.7464879959242077, q = 0.6999957288541196, vD = 0.00010840679993506797)\n",
      "301: (v = 0.0006939164343044979, κ = 0.0005165681252381482, q = 7.086682121404397e-5, vD = 8.054937151058539e-6)\n",
      "401: (v = 2.518262185446929e-7, κ = 1.3481843019746975e-7, q = 9.596437311465422e-9, vD = 9.789055255282619e-8)\n",
      "501: (v = 2.0121184718391305e-9, κ = 9.525344957239668e-10, q = 5.3842819092153604e-11, vD = 9.34804234020703e-10)\n",
      "566: (v = 9.85771464456775e-11, κ = 4.665134945014415e-11, q = 2.4933388687031766e-12, vD = 4.581579560181126e-11)\n",
      "Converged.\n",
      "1075.471720 seconds (36.55 k allocations: 3.350 MiB)\n",
      "1: (v = 1.4304966712931169, κ = 0.0049999999999999906, q = 0.6091402083520796, vD = 0.5336647908767169)\n",
      "101: (v = 0.006499144150186709, κ = 0.0014373646463945455, q = 0.03305766599032722, vD = 0.001962489384442989)\n",
      "201: (v = 0.0004991181069833317, κ = 0.0002481710264501391, q = 0.0016605596415658619, vD = 0.00015718183861679336)\n",
      "301: (v = 2.6321259710471168e-5, κ = 7.888809705036692e-6, q = 0.0001022499302263391, vD = 1.0791350479877337e-5)\n",
      "401: (v = 1.0532920526884482e-6, κ = 3.0194614342171633e-7, q = 3.5933910040863992e-6, vD = 4.917473575005715e-7)\n",
      "501: (v = 3.8492981246918134e-8, κ = 1.0809682926549158e-8, q = 1.2824945849754243e-7, vD = 1.8466170814690486e-8)\n",
      "601: (v = 1.3847518687271076e-9, κ = 3.872866471965608e-10, q = 4.5944311688472794e-9, vD = 6.675584529602929e-10)\n",
      "701: (v = 4.9684700798025005e-11, κ = 1.3885115279776983e-11, q = 1.6474277497735557e-10, vD = 2.397371190454578e-11)\n",
      "716: (v = 3.015898641933745e-11, κ = 8.429479336768964e-12, q = 9.997769279124213e-11, vD = 1.4548362514688051e-11)\n",
      "Converged.\n",
      "5202.033305 seconds (37.15 k allocations: 3.992 MiB)\n",
      "1: (v = 1.503244195357336, q = 0.5809876919006163, vD = 0.5336647908767169)\n",
      "101: (v = 0.004056592969735817, q = 0.027681890669036924, vD = 0.0016775120709731084)\n",
      "201: (v = 0.00015041611272081923, q = 0.0006756621768123638, vD = 8.553929600196852e-5)\n",
      "301: (v = 3.1591611424630628e-6, q = 9.081441164959791e-6, vD = 2.2149378722247093e-6)\n",
      "401: (v = 5.747590137161751e-8, q = 1.4828369254704654e-7, vD = 4.231429784340435e-8)\n",
      "501: (v = 1.008441330441201e-9, q = 2.5294086825056183e-9, vD = 7.510898569762503e-10)\n",
      "581: (v = 3.945288540307956e-11, q = 9.833334146946981e-11, vD = 2.945199639725615e-11)\n",
      "Converged.\n",
      " 41.760157 seconds (3.03 k allocations: 638.750 KiB)\n",
      "1: (v = 1.4304966712931133, q = 0.6228889227105547, vD = 0.5336647908767169)\n",
      "101: (v = 0.0005637016664330474, q = 0.0010779509729434977, vD = 0.00044148420319700676)\n",
      "201: (v = 5.355097950854315e-6, q = 4.457752182940311e-6, vD = 5.008105734560786e-6)\n",
      "301: (v = 5.17685521117528e-8, q = 3.90011859474626e-8, vD = 4.8966107613068743e-8)\n",
      "401: (v = 5.019167303998984e-10, q = 3.753934940675663e-10, vD = 4.751186111207062e-10)\n",
      "436: (v = 9.907807907438837e-11, q = 7.410250191242085e-11, vD = 9.378453569297562e-11)\n",
      "Converged.\n",
      " 17.584227 seconds (2.65 k allocations: 907.500 KiB)\n",
      "1: (v = 1.503244195357336, q = 0.5809876919006156, vD = 0.5336647908767169)\n",
      "101: (v = 0.004484707082308859, q = 0.025068799461710034, vD = 0.002272549171188132)\n",
      "201: (v = 0.00017933770319800146, q = 0.0008063805688462988, vD = 0.00011157254404636774)\n",
      "301: (v = 5.136731800803318e-6, q = 1.8853220028813844e-5, vD = 3.5104569775512573e-6)\n",
      "401: (v = 1.4380356461174415e-7, q = 5.130105279471664e-7, vD = 9.968788816649976e-8)\n",
      "501: (v = 3.964139239087672e-9, q = 1.405720562175361e-8, vD = 2.7564297511162295e-9)\n",
      "601: (v = 1.0891554325098696e-10, q = 3.8573388927432006e-10, vD = 7.578293548249349e-11)\n",
      "639: (v = 2.7778668254541117e-11, q = 9.812184398327872e-11, vD = 1.9337420553711127e-11)\n",
      "Converged.\n",
      " 51.727798 seconds (3.05 k allocations: 678.969 KiB)\n",
      "1: (v = 1.4304966712931133, q = 0.6091402083520794, vD = 0.5336647908767169)\n",
      "101: (v = 0.00438511740256331, q = 0.024675153147701523, vD = 0.0022352986528026975)\n",
      "201: (v = 0.00016749245137148705, q = 0.0006938799287112829, vD = 0.00010776045781568655)\n",
      "301: (v = 4.988516678849919e-6, q = 1.8061684175951775e-5, vD = 3.377242030921934e-6)\n",
      "401: (v = 1.4189227925953674e-7, q = 5.023039167939558e-7, vD = 9.691990143778639e-8)\n",
      "501: (v = 3.993992692130632e-9, q = 1.4087788602346052e-8, vD = 2.733340664917705e-9)\n",
      "601: (v = 1.1217693440812582e-10, q = 3.9536729445899255e-10, vD = 7.680256430830923e-11)\n",
      "640: (v = 2.7849722528117127e-11, q = 9.842215931143983e-11, vD = 1.906741431412229e-11)\n",
      "Converged.\n",
      " 56.874038 seconds (3.29 k allocations: 698.297 KiB)\n",
      "1: (v = 1.4304966712931169, κ = 0.99, q = 0.5809876919006163, vD = 0.5336647908767169)\n",
      "101: (v = 0.638731366994211, κ = 0.874598957617664, q = 0.8318549918801795, vD = 0.0018437744295738412)\n",
      "201: (v = 0.44096010378287076, κ = 0.7204931771691352, q = 0.650580234309675, vD = 0.00016067932261520923)\n",
      "301: (v = 0.015462917691184686, κ = 0.04752631624596937, q = 0.026725505003079242, vD = 2.1911569842103518e-5)\n",
      "401: (v = 2.354202731424948e-5, κ = 2.1305960497208787e-5, q = 0.000187267929614654, vD = 1.6311978328076293e-6)\n",
      "501: (v = 5.279932633328599e-6, κ = 5.246181965956609e-6, q = 8.092745334975504e-6, vD = 4.5451088226400316e-8)\n",
      "601: (v = 2.400201729813034e-6, κ = 2.399839657218905e-6, q = 1.4078011214557762e-6, vD = 2.090904516194314e-8)\n",
      "701: (v = 1.1713095027232612e-6, κ = 1.171484019790725e-6, q = 4.583537858149356e-7, vD = 7.077044728021065e-9)\n",
      "801: (v = 5.465172208118929e-7, κ = 5.464603902716192e-7, q = 1.536323351869484e-7, vD = 2.3766020262883103e-9)\n",
      "901: (v = 2.4060754810761864e-7, κ = 2.4049663505110175e-7, q = 5.1569097769821326e-8, vD = 7.979537031133077e-10)\n",
      "1001: (v = 1.0044467657621681e-7, κ = 1.0036419673120633e-7, q = 1.7311973188327556e-8, vD = 2.679101385183458e-10)\n",
      "1101: (v = 4.0137770440651366e-8, κ = 4.009418419492761e-8, q = 5.81239245622811e-9, vD = 8.995115763354988e-11)\n",
      "1201: (v = 1.5499580285904813e-8, κ = 1.5479252546413136e-8, q = 1.9518525684603105e-9, vD = 3.019806626980426e-11)\n",
      "1301: (v = 5.830255389582817e-9, κ = 5.82159742634758e-9, q = 6.53578524634213e-10, vD = 1.013944483929663e-11)\n",
      "1401: (v = 2.149427302811091e-9, κ = 2.1459318766403612e-9, q = 2.1928237003976392e-10, vD = 3.40349970429088e-12)\n",
      "1501: (v = 7.801901347193052e-10, κ = 7.788436562350398e-10, q = 7.457512385400378e-11, vD = 1.1368683772161603e-12)\n",
      "1601: (v = 2.7975133320978784e-10, κ = 2.7924151879687997e-10, q = 2.433120371847508e-11, vD = 3.836930773104541e-13)\n",
      "1701: (v = 9.933742717294081e-11, κ = 9.91520199278284e-11, q = 8.496092718246473e-12, vD = 1.3145040611561853e-13)\n",
      "Converged.\n",
      "6447.572435 seconds (117.85 k allocations: 11.563 MiB)\n"
     ]
    }
   ],
   "source": [
    "for m ∈ (mFR, mFRlowκ, mEGST, mCKST, mEGLT, mCKLT, mFRperp)\n",
    "    @time solve!(m; print_every = 100, max_iters = 5000)\n",
    "end"
   ]
  },
  {
   "cell_type": "code",
   "execution_count": 22,
   "metadata": {},
   "outputs": [
    {
     "data": {
      "text/plain": [
       "TaskLocalRNG()"
      ]
     },
     "execution_count": 22,
     "metadata": {},
     "output_type": "execute_result"
    }
   ],
   "source": [
    "big_T = 20_000 \n",
    "big_N = 1_000\n",
    "rng = Random.seed!(1234)"
   ]
  },
  {
   "cell_type": "code",
   "execution_count": 23,
   "metadata": {},
   "outputs": [
    {
     "name": "stdout",
     "output_type": "stream",
     "text": [
      "  2.847760 seconds (65.02 k allocations: 2.824 GiB, 40.64% gc time)\n"
     ]
    }
   ],
   "source": [
    "@time shocks, paths = create_shocks_paths(mCKST, big_T, big_N; rng);"
   ]
  },
  {
   "cell_type": "code",
   "execution_count": 24,
   "metadata": {},
   "outputs": [
    {
     "name": "stdout",
     "output_type": "stream",
     "text": [
      "  0.460194 seconds (7.02 k allocations: 1.130 MiB)\n",
      "  5.162148 seconds (5 allocations: 281.791 MiB, 40.69% gc time)\n"
     ]
    },
    {
     "data": {
      "text/plain": [
       "(mean_bp_y = 0.8205549556096196, mean_mv_y = 0.8200560615362792, mean_spread = 0.002623656025773225, std_spread = 0.003841584383537068, mean_κ = 0.010000000000000007, std_κ = 1.7347235229438105e-18, max_κ = 0.010000000000000009, std_c_y = 1.133027469576514, cor_tb_y = -0.2233765227992184, cor_r_y = -0.44506115122395706, cor_r_b_y = -0.2204906298011865, cor_r_tb = 0.852054829365093, def_rate = 0.0025025396737509142, run_share = 0.0)"
      ]
     },
     "execution_count": 24,
     "metadata": {},
     "output_type": "execute_result"
    }
   ],
   "source": [
    "##EGST\n",
    "@time simulation!(paths, shocks, mEGST; n = big_T, trim = 1000, trim_def = 20)\n",
    "@time moments_EGST = moments(paths, mEGST)"
   ]
  },
  {
   "cell_type": "code",
   "execution_count": 25,
   "metadata": {},
   "outputs": [
    {
     "name": "stdout",
     "output_type": "stream",
     "text": [
      "  0.242564 seconds (7.01 k allocations: 1.130 MiB)\n",
      "  2.342926 seconds (5 allocations: 282.892 MiB, 15.45% gc time)\n"
     ]
    },
    {
     "data": {
      "text/plain": [
       "(mean_bp_y = 0.37518426640137736, mean_mv_y = 0.3749921881560013, mean_spread = 0.002271212205253653, std_spread = 0.0025437235941263786, mean_κ = 0.010000000000000007, std_κ = 1.7347235227610913e-18, max_κ = 0.010000000000000009, std_c_y = 1.054600263597107, cor_tb_y = -0.18708946710455696, cor_r_y = -0.6650009745665612, cor_r_b_y = -0.49312918202683675, cor_r_tb = 0.6858255794524165, def_rate = 0.0021505496569808047, run_share = 1.0)"
      ]
     },
     "execution_count": 25,
     "metadata": {},
     "output_type": "execute_result"
    }
   ],
   "source": [
    "##CKST\n",
    "@time simulation!(paths, shocks, mCKST; n = big_T, trim = 1000, trim_def = 20)\n",
    "@time moments_CKST = moments(paths, mCKST)"
   ]
  },
  {
   "cell_type": "code",
   "execution_count": 26,
   "metadata": {},
   "outputs": [
    {
     "name": "stdout",
     "output_type": "stream",
     "text": [
      "  0.219197 seconds (7.01 k allocations: 1.130 MiB)\n",
      "  1.244674 seconds (5 allocations: 153.635 MiB, 1.40% gc time)\n"
     ]
    },
    {
     "data": {
      "text/plain": [
       "(mean_bp_y = 0.936006419319225, mean_mv_y = 0.7227623372721607, mean_spread = 0.07981495857468962, std_spread = 0.04431240237236437, mean_κ = 0.010000000000000007, std_κ = 1.7347235621220138e-18, max_κ = 0.010000000000000009, std_c_y = 1.1050229483901097, cor_tb_y = -0.39032161853095576, cor_r_y = -0.6475619630623043, cor_r_b_y = -0.027071889709726054, cor_r_tb = 0.7282486980693714, def_rate = 0.06712580452744432, run_share = 0.0)"
      ]
     },
     "execution_count": 26,
     "metadata": {},
     "output_type": "execute_result"
    }
   ],
   "source": [
    "##EGLT\n",
    "@time simulation!(paths, shocks, mEGLT; n = big_T, trim = 1000, trim_def = 20)\n",
    "@time moments_EGLT = moments(paths, mEGLT)"
   ]
  },
  {
   "cell_type": "code",
   "execution_count": 27,
   "metadata": {},
   "outputs": [
    {
     "name": "stdout",
     "output_type": "stream",
     "text": [
      "  0.228710 seconds (7.01 k allocations: 1.130 MiB)\n",
      "  1.212637 seconds (5 allocations: 153.653 MiB, 0.97% gc time)\n"
     ]
    },
    {
     "data": {
      "text/plain": [
       "(mean_bp_y = 0.9358998257171705, mean_mv_y = 0.7226991030682838, mean_spread = 0.0798031593010469, std_spread = 0.044280324278591715, mean_κ = 0.010000000000000005, std_κ = 3.469447124224061e-18, max_κ = 0.010000000000000009, std_c_y = 1.105083694798529, cor_tb_y = -0.3903699194833873, cor_r_y = -0.6478664558235778, cor_r_b_y = -0.027875128139195328, cor_r_tb = 0.7283794525055333, def_rate = 0.06710014765866767, run_share = 0.0025512807429329525)"
      ]
     },
     "execution_count": 27,
     "metadata": {},
     "output_type": "execute_result"
    }
   ],
   "source": [
    "##CKLT\n",
    "@time simulation!(paths, shocks, mCKLT; n = big_T, trim = 1000, trim_def = 20)\n",
    "@time moments_CKLT = moments(paths, mCKLT)"
   ]
  },
  {
   "cell_type": "code",
   "execution_count": 28,
   "metadata": {},
   "outputs": [
    {
     "name": "stdout",
     "output_type": "stream",
     "text": [
      "  0.396365 seconds (7.01 k allocations: 1.130 MiB)\n",
      "  2.009120 seconds (5 allocations: 281.944 MiB, 0.81% gc time)\n"
     ]
    },
    {
     "data": {
      "text/plain": [
       "(mean_bp_y = 0.7654853906270102, mean_mv_y = 0.765485390623778, mean_spread = 0.0025436925796378644, std_spread = 0.0035270310486864628, mean_κ = 0.01061557857523456, std_κ = 0.0008512388358720997, max_κ = 0.023665006159335755, std_c_y = 1.1061651695476236, cor_tb_y = -0.2162935945671702, cor_r_y = -0.4047458152305521, cor_r_b_y = -0.13794485153742567, cor_r_tb = 0.7403959365984468, def_rate = 0.0024301857845833164, run_share = 0.7687449968869519)"
      ]
     },
     "execution_count": 28,
     "metadata": {},
     "output_type": "execute_result"
    }
   ],
   "source": [
    "##FR\n",
    "@time simulation!(paths, shocks, mFR; n = big_T, trim = 1000, trim_def = 20)\n",
    "@time moments_FR = moments(paths, mFR)"
   ]
  },
  {
   "cell_type": "code",
   "execution_count": 32,
   "metadata": {},
   "outputs": [
    {
     "name": "stdout",
     "output_type": "stream",
     "text": [
      "  0.860725 seconds (7.01 k allocations: 1.129 MiB)\n",
      "  2.332167 seconds (5 allocations: 206.471 MiB, 1.28% gc time)\n"
     ]
    },
    {
     "data": {
      "text/plain": [
       "(mean_bp_y = 0.8711728450206657, mean_mv_y = 0.7756564105049797, mean_spread = 0.03765188190172232, std_spread = 0.02872861655037881, mean_κ = 0.011107674734744053, std_κ = 0.0017222473400545508, max_κ = 0.015, std_c_y = 1.1184996886930902, cor_tb_y = -0.3041038688325507, cor_r_y = -0.43575629998683435, cor_r_b_y = 0.03485689410751214, cor_r_tb = 0.5653399043618292, def_rate = 0.0329320174746508, run_share = 0.0028570423897181637)"
      ]
     },
     "execution_count": 32,
     "metadata": {},
     "output_type": "execute_result"
    }
   ],
   "source": [
    "##FRlowκ\n",
    "@time simulation!(paths, shocks, mFRlowκ; n = big_T, trim = 1000, trim_def = 20)\n",
    "@time moments_FRlowκ = moments(paths, mFRlowκ)"
   ]
  },
  {
   "cell_type": "code",
   "execution_count": 33,
   "metadata": {},
   "outputs": [
    {
     "name": "stdout",
     "output_type": "stream",
     "text": [
      "  0.788531 seconds (7.02 k allocations: 1.130 MiB)\n",
      "  2.876348 seconds (5 allocations: 277.494 MiB, 0.93% gc time)\n"
     ]
    },
    {
     "data": {
      "text/plain": [
       "(mean_bp_y = 0.7251413240530906, mean_mv_y = 0.7013185676057948, mean_spread = Inf, std_spread = NaN, mean_κ = 0.010980410406604668, std_κ = 0.017968214237910573, max_κ = 1.0, std_c_y = 1.1251307024519908, cor_tb_y = -0.21486120355582003, cor_r_y = NaN, cor_r_b_y = NaN, cor_r_tb = NaN, def_rate = 0.0038635447046659888, run_share = 0.6265333939118582)"
      ]
     },
     "execution_count": 33,
     "metadata": {},
     "output_type": "execute_result"
    }
   ],
   "source": [
    "##FRperp\n",
    "@time simulation!(paths, shocks, mFRperp; n = big_T, trim = 1000, trim_def = 20)\n",
    "@time moments_FRperp = moments(paths, mFRperp)"
   ]
  },
  {
   "cell_type": "code",
   "execution_count": 34,
   "metadata": {},
   "outputs": [
    {
     "name": "stdout",
     "output_type": "stream",
     "text": [
      "┌──────────────┬───────────┬───────────┬─────────────┬────────────┬───────────┬─────────────┬──────────┬─────────┬───────────┬───────────┬────────────┬──────────┬────────────┬────────────┐\n",
      "│\u001b[1m              \u001b[0m│\u001b[1m mean_bp_y \u001b[0m│\u001b[1m mean_mv_y \u001b[0m│\u001b[1m mean_spread \u001b[0m│\u001b[1m std_spread \u001b[0m│\u001b[1m    mean_κ \u001b[0m│\u001b[1m       std_κ \u001b[0m│\u001b[1m    max_κ \u001b[0m│\u001b[1m std_c_y \u001b[0m│\u001b[1m  cor_tb_y \u001b[0m│\u001b[1m   cor_r_y \u001b[0m│\u001b[1m  cor_r_b_y \u001b[0m│\u001b[1m cor_r_tb \u001b[0m│\u001b[1m   def_rate \u001b[0m│\u001b[1m  run_share \u001b[0m│\n",
      "├──────────────┼───────────┼───────────┼─────────────┼────────────┼───────────┼─────────────┼──────────┼─────────┼───────────┼───────────┼────────────┼──────────┼────────────┼────────────┤\n",
      "│\u001b[1m         EGST \u001b[0m│  0.820555 │  0.820056 │  0.00262366 │ 0.00384158 │      0.01 │ 1.73472e-18 │     0.01 │ 1.13303 │ -0.223377 │ -0.445061 │  -0.220491 │ 0.852055 │ 0.00250254 │        0.0 │\n",
      "│\u001b[1m         CKST \u001b[0m│  0.375184 │  0.374992 │  0.00227121 │ 0.00254372 │      0.01 │ 1.73472e-18 │     0.01 │  1.0546 │ -0.187089 │ -0.665001 │  -0.493129 │ 0.685826 │ 0.00215055 │        1.0 │\n",
      "│\u001b[1m         EGLT \u001b[0m│  0.936006 │  0.722762 │    0.079815 │  0.0443124 │      0.01 │ 1.73472e-18 │     0.01 │ 1.10502 │ -0.390322 │ -0.647562 │ -0.0270719 │ 0.728249 │  0.0671258 │        0.0 │\n",
      "│\u001b[1m         CKLT \u001b[0m│    0.9359 │  0.722699 │   0.0798032 │  0.0442803 │      0.01 │ 3.46945e-18 │     0.01 │ 1.10508 │  -0.39037 │ -0.647866 │ -0.0278751 │ 0.728379 │  0.0671001 │ 0.00255128 │\n",
      "│\u001b[1m           FR \u001b[0m│  0.765485 │  0.765485 │  0.00254369 │ 0.00352703 │ 0.0106156 │ 0.000851239 │ 0.023665 │ 1.10617 │ -0.216294 │ -0.404746 │  -0.137945 │ 0.740396 │ 0.00243019 │   0.768745 │\n",
      "│\u001b[1m       FRlowκ \u001b[0m│  0.871173 │  0.775656 │   0.0376519 │  0.0287286 │ 0.0111077 │  0.00172225 │    0.015 │  1.1185 │ -0.304104 │ -0.435756 │  0.0348569 │  0.56534 │   0.032932 │ 0.00285704 │\n",
      "│\u001b[1m FRperpetuity \u001b[0m│  0.725141 │  0.701319 │         Inf │        NaN │ 0.0109804 │   0.0179682 │      1.0 │ 1.12513 │ -0.214861 │       NaN │        NaN │      NaN │ 0.00386354 │   0.626533 │\n",
      "└──────────────┴───────────┴───────────┴─────────────┴────────────┴───────────┴─────────────┴──────────┴─────────┴───────────┴───────────┴────────────┴──────────┴────────────┴────────────┘\n"
     ]
    }
   ],
   "source": [
    "pretty_table(\n",
    "    [\n",
    "        pairs(moments_EGST),\n",
    "        pairs(moments_CKST),\n",
    "        pairs(moments_EGLT),\n",
    "        pairs(moments_CKLT),\n",
    "        pairs(moments_FR),\n",
    "        pairs(moments_FRlowκ),\n",
    "        pairs(moments_FRperp)\n",
    "    ],\n",
    "    row_names = [\"EGST\", \"CKST\", \"EGLT\", \"CKLT\", \"FR\", \"FRlowκ\", \"FRperpetuity\"]\n",
    ")"
   ]
  },
  {
   "cell_type": "code",
   "execution_count": 15,
   "metadata": {},
   "outputs": [
    {
     "data": {
      "text/plain": [
       "false"
      ]
     },
     "execution_count": 15,
     "metadata": {},
     "output_type": "execute_result"
    }
   ],
   "source": [
    "SAVE_MOMENTS && open(joinpath(@__DIR__,\"..\",\"output\",\"moments.txt\"), \"w\") do f\n",
    "    pretty_table(f,\n",
    "    [\n",
    "        pairs(moments_EGST),\n",
    "        pairs(moments_CKST),\n",
    "        pairs(moments_EGLT),\n",
    "        pairs(moments_CKLT),\n",
    "        pairs(moments_FR),\n",
    "        pairs(moments_FRlowκ)\n",
    "    ],\n",
    "    row_names = [\"EGST\", \"CKST\", \"EGLT\", \"CKLT\", \"FR\", \"FRlowκ\"]\n",
    ")\n",
    "end"
   ]
  },
  {
   "cell_type": "code",
   "execution_count": 47,
   "metadata": {},
   "outputs": [
    {
     "name": "stderr",
     "output_type": "stream",
     "text": [
      "┌ Info: Precompiling Plots [91a5bcdd-55d7-5caf-9e0b-520d859cae80]\n",
      "└ @ Base loading.jl:1423\n"
     ]
    }
   ],
   "source": [
    "using Plots"
   ]
  },
  {
   "cell_type": "code",
   "execution_count": null,
   "metadata": {},
   "outputs": [],
   "source": []
  }
 ],
 "metadata": {
  "jupytext": {
   "cell_metadata_filter": "-all",
   "formats": "auto:light,ipynb",
   "notebook_metadata_filter": "-all",
   "text_representation": {
    "extension": ".jl",
    "format_name": "light"
   }
  },
  "kernelspec": {
   "display_name": "Julia 8 threads 1.7.3",
   "language": "julia",
   "name": "julia-8-threads-1.7"
  },
  "language_info": {
   "file_extension": ".jl",
   "mimetype": "application/julia",
   "name": "julia",
   "version": "1.7.3"
  }
 },
 "nbformat": 4,
 "nbformat_minor": 4
}
